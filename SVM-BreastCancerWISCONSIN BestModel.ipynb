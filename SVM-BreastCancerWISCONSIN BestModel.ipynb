{
 "cells": [
  {
   "cell_type": "code",
   "execution_count": null,
   "metadata": {},
   "outputs": [],
   "source": [
    "import pandas as pd\n",
    "import sklearn\n",
    "from sklearn import model_selection, svm, metrics\n",
    "import numpy as np\n",
    "from mlxtend.plotting import plot_decision_regions\n",
    "import matplotlib.pyplot as plt\n",
    "import pickle"
   ]
  },
  {
   "cell_type": "code",
   "execution_count": null,
   "metadata": {},
   "outputs": [],
   "source": [
    "breastCancer_data = pd.read_csv(\"./BreastCancer-Wisconsin/breast-cancer-wisconsin.data\")\n",
    "#print(breastCancer_data)\n",
    "\n",
    "classes = ['malignant', 'benign']\n",
    "features = [\"clump_thickness\", \"cell_size_uniformity\", \"cell_shape_uniformity\", \"marginal_adhesion\",\n",
    "            \"cell_size_epithelial\", \"bland_chromatin\", \"normal_nucleoli\", \"mitoses\"]\n",
    "\n",
    "X = breastCancer_data.drop([\"id_number\",\"bare_nuclei\", \"class\"], axis=1)\n",
    "Y = breastCancer_data[\"class\"]\n",
    "#print(X)\n",
    "#print(Y)"
   ]
  },
  {
   "cell_type": "code",
   "execution_count": null,
   "metadata": {},
   "outputs": [],
   "source": [
    "accuracy = 0.0\n",
    "while (accuracy < 1):\n",
    "    x_train, x_test, y_train, y_test = sklearn.model_selection.train_test_split(X.values, Y.values, test_size=0.2)\n",
    "    model = svm.SVC(kernel='rbf')\n",
    "    model.fit(x_train, y_train)\n",
    "    predictions = model.predict(x_test)\n",
    "    accuracy = metrics.accuracy_score(y_test, predictions)\n",
    "    if accuracy == 1:\n",
    "        file = open('best-model.pkl', 'wb')\n",
    "        pickle.dump(model, file)\n",
    "        pickle.dump(x_train, file)\n",
    "        pickle.dump(x_test, file)\n",
    "        pickle.dump(y_train, file)\n",
    "        pickle.dump(y_test, file)\n",
    "        file.close()\n",
    "print(\"Accuracy: \", accuracy*100, \"%\")\n",
    "\n",
    "print(\"Features \\t\\t\\t\\t\\tPredicted \\t\\t Target\")\n",
    "for (x, p, y) in zip(x_test, predictions, y_test):\n",
    "    print(x, \"\\t\\t\\t\", classes[int(p / 2) - 1], \"\\t\\t\", classes[int(y / 2) - 1])"
   ]
  },
  {
   "cell_type": "code",
   "execution_count": null,
   "metadata": {},
   "outputs": [],
   "source": [
    "file = open('best-model.pkl', 'rb')\n",
    "model = pickle.load(file)\n",
    "x_train = pickle.load(file)\n",
    "x_test = pickle.load(file)\n",
    "y_train = pickle.load(file)\n",
    "y_test = pickle.load(file)\n",
    "file.close()\n",
    "\n",
    "predictions = model.predict(x_test)\n",
    "accuracy = metrics.accuracy_score(y_test, predictions)\n",
    "print(\"Accuracy: \", accuracy*100, \"%\")\n",
    "\n",
    "print(\"Features \\t\\t\\t\\t\\tPredicted \\t\\t Target\")\n",
    "for (x, p, y) in zip(x_test, predictions, y_test):\n",
    "    print(x, \"\\t\\t\\t\", classes[int(p / 2) - 1], \"\\t\\t\", classes[int(y / 2) - 1])"
   ]
  },
  {
   "cell_type": "markdown",
   "metadata": {},
   "source": [
    "### Plotting 2 features at a time"
   ]
  },
  {
   "cell_type": "code",
   "execution_count": null,
   "metadata": {},
   "outputs": [],
   "source": [
    "def getGraph(kernel='linear'):\n",
    "    X1 = breastCancer_data[[\"clump_thickness\", \"cell_size_uniformity\"]]\n",
    "    Y1 = breastCancer_data[\"class\"]\n",
    "    accuracy = 0.0\n",
    "    while (accuracy <= 0.97):\n",
    "        x_train1, x_test1, y_train1, y_test1 = sklearn.model_selection.train_test_split(X1.values, Y1.values, test_size=0.2)\n",
    "        model1 = svm.SVC(kernel=kernel)\n",
    "        model1.fit(x_train1, y_train1)\n",
    "        predictions = model1.predict(x_test1)\n",
    "        accuracy = metrics.accuracy_score(y_test1, predictions)\n",
    "    plot_decision_regions(X=X1.values,\n",
    "                          y=Y1.values,\n",
    "                          clf=model1,\n",
    "                          legend=2)\n",
    "\n",
    "    # Update plot object with X/Y axis labels and Figure Title\n",
    "    plt.xlabel(X1.columns[0], size=14)\n",
    "    plt.ylabel(X1.columns[1], size=14)\n",
    "    plt.title('SVM - '+kernel+' Kernel', size=16)\n",
    "    plt.show()"
   ]
  },
  {
   "cell_type": "markdown",
   "metadata": {},
   "source": [
    "##### Linear Kernel"
   ]
  },
  {
   "cell_type": "code",
   "execution_count": null,
   "metadata": {},
   "outputs": [],
   "source": [
    "getGraph(kernel='linear')"
   ]
  },
  {
   "cell_type": "markdown",
   "metadata": {},
   "source": [
    "##### RBF Kernel"
   ]
  },
  {
   "cell_type": "code",
   "execution_count": null,
   "metadata": {},
   "outputs": [],
   "source": [
    "getGraph(kernel='rbf')"
   ]
  },
  {
   "cell_type": "markdown",
   "metadata": {},
   "source": [
    "##### Poly Kernel"
   ]
  },
  {
   "cell_type": "code",
   "execution_count": null,
   "metadata": {
    "scrolled": true
   },
   "outputs": [],
   "source": [
    "getGraph(kernel='poly')"
   ]
  }
 ],
 "metadata": {
  "kernelspec": {
   "display_name": "Python 3",
   "language": "python",
   "name": "python3"
  },
  "language_info": {
   "codemirror_mode": {
    "name": "ipython",
    "version": 3
   },
   "file_extension": ".py",
   "mimetype": "text/x-python",
   "name": "python",
   "nbconvert_exporter": "python",
   "pygments_lexer": "ipython3",
   "version": "3.7.9"
  }
 },
 "nbformat": 4,
 "nbformat_minor": 4
}
