{
 "cells": [
  {
   "cell_type": "code",
   "execution_count": null,
   "metadata": {},
   "outputs": [],
   "source": [
    "import tensorflow as tf\n",
    "from tensorflow import keras\n",
    "from tensorflow.keras import Sequential\n",
    "from tensorflow.keras.layers import Flatten, Dense, Dropout, BatchNormalization\n",
    "from tensorflow.keras.layers import Conv1D, MaxPool1D\n",
    "from tensorflow.keras.callbacks import ModelCheckpoint\n",
    "from tensorflow.keras.models import load_model\n",
    "\n",
    "from tensorflow.keras.optimizers import Adam\n",
    "\n",
    "import pandas as pd\n",
    "import numpy as np\n",
    "#import  seaborn as sns\n",
    "import matplotlib.pyplot as plt\n",
    "\n",
    "import sklearn\n",
    "from sklearn import model_selection, svm, metrics\n",
    "from sklearn.model_selection import train_test_split\n",
    "import numpy as np"
   ]
  },
  {
   "cell_type": "code",
   "execution_count": null,
   "metadata": {},
   "outputs": [],
   "source": [
    "breastCancer_data = pd.read_csv(\"./BreastCancer-Wisconsin/breast-cancer-wisconsin.data\")\n",
    "#print(breastCancer_data)\n",
    "\n",
    "classes = ['malignant', 'benign']\n",
    "features = [\"clump_thickness\", \"cell_size_uniformity\", \"cell_shape_uniformity\", \"marginal_adhesion\",\n",
    "            \"cell_size_epithelial\", \"bland_chromatin\", \"normal_nucleoli\", \"mitoses\"]\n",
    "\n",
    "X = breastCancer_data.drop([\"id_number\",\"bare_nuclei\", \"class\"], axis=1)\n",
    "Y = breastCancer_data[\"class\"].replace([2, 4], [0, 1])\n",
    "#print(X)\n",
    "#print(Y)"
   ]
  },
  {
   "cell_type": "code",
   "execution_count": null,
   "metadata": {},
   "outputs": [],
   "source": [
    "X_train, X_test, y_train, y_test = train_test_split(X.values, Y.values, test_size = 0.2, random_state = 0, stratify = Y)"
   ]
  },
  {
   "cell_type": "code",
   "execution_count": null,
   "metadata": {},
   "outputs": [],
   "source": [
    "X_train.shape"
   ]
  },
  {
   "cell_type": "code",
   "execution_count": null,
   "metadata": {},
   "outputs": [],
   "source": [
    "X_test.shape"
   ]
  },
  {
   "cell_type": "code",
   "execution_count": null,
   "metadata": {},
   "outputs": [],
   "source": [
    "X_train = X_train.reshape(559, 8,1)\n",
    "X_test = X_test.reshape(140, 8, 1)\n",
    "with open('ytest.npy', 'wb') as f:\n",
    "    np.save(f, np.array(y_test))\n",
    "f.close()\n",
    "with open('xtest.npy', 'wb') as f:\n",
    "    np.save(f, np.array(X_test))\n",
    "f.close()    "
   ]
  },
  {
   "cell_type": "code",
   "execution_count": null,
   "metadata": {},
   "outputs": [],
   "source": [
    "learning_rate = 0.00005\n",
    "epochs = 50\n",
    "model = Sequential()\n",
    "model.add(Conv1D(filters=32, kernel_size=2, activation='relu', input_shape = (8,1)))\n",
    "model.add(BatchNormalization())\n",
    "model.add(Dropout(0.2))\n",
    "\n",
    "model.add(Conv1D(filters=64, kernel_size=2, activation='relu'))\n",
    "model.add(BatchNormalization())\n",
    "model.add(Dropout(0.5))\n",
    "\n",
    "model.add(Flatten())\n",
    "model.add(Dense(64, activation='relu'))\n",
    "model.add(Dropout(0.5))\n",
    "\n",
    "model.add(Dense(1, activation='sigmoid'))\n",
    "\n",
    "model.summary()"
   ]
  },
  {
   "cell_type": "code",
   "execution_count": null,
   "metadata": {},
   "outputs": [],
   "source": [
    "model.compile(optimizer=Adam(lr=learning_rate), loss = 'binary_crossentropy', metrics=['accuracy'])"
   ]
  },
  {
   "cell_type": "code",
   "execution_count": null,
   "metadata": {},
   "outputs": [],
   "source": [
    "checkpoint = ModelCheckpoint('model-{epoch:03d}.model',monitor='val_loss',verbose=0,save_best_only=True,mode='auto')\n",
    "#history = model.fit(X_train, y_train, epochs=epochs, validation_data=(X_test, y_test), verbose=1)\n",
    "# Saving model\n",
    "history = model.fit(X_train, y_train, epochs=epochs, callbacks=[checkpoint], validation_data=(X_test, y_test), verbose=1)"
   ]
  },
  {
   "cell_type": "code",
   "execution_count": null,
   "metadata": {},
   "outputs": [],
   "source": [
    "def plot_learningCurve(history, epoch):\n",
    "  # Plot training & validation accuracy values\n",
    "  epoch_range = range(1, epoch+1)\n",
    "  plt.plot(epoch_range, history.history['accuracy'])\n",
    "  plt.plot(epoch_range, history.history['val_accuracy'])\n",
    "  plt.title('Model accuracy')\n",
    "  plt.ylabel('Accuracy')\n",
    "  plt.xlabel('Epoch')\n",
    "  plt.legend(['Train', 'Val'], loc='upper left')\n",
    "  plt.show()\n",
    "\n",
    "  # Plot training & validation loss values\n",
    "  plt.plot(epoch_range, history.history['loss'])\n",
    "  plt.plot(epoch_range, history.history['val_loss'])\n",
    "  plt.title('Model loss')\n",
    "  plt.ylabel('Loss')\n",
    "  plt.xlabel('Epoch')\n",
    "  plt.legend(['Train', 'Val'], loc='upper left')\n",
    "  plt.show()"
   ]
  },
  {
   "cell_type": "code",
   "execution_count": null,
   "metadata": {},
   "outputs": [],
   "source": [
    "plot_learningCurve(history, epochs)"
   ]
  },
  {
   "cell_type": "code",
   "execution_count": null,
   "metadata": {},
   "outputs": [],
   "source": [
    "X_test2 = tf.cast(X_test, tf.float32)\n",
    "predictions = model.predict(X_test2)\n",
    "predictions2 = []\n",
    "for p in predictions:\n",
    "    if p <= 0.5:\n",
    "        predictions2.append(0)\n",
    "    else:\n",
    "        predictions2.append(1)\n",
    "accuracy = metrics.accuracy_score(y_test, predictions2)\n",
    "print(\"Accuracy: \", accuracy*100, \"%\")\n",
    "print(\"Features \\t\\t\\t\\t\\tPredicted \\t\\t Target\")\n",
    "for (x, p, y) in zip(X_test, predictions2, y_test):\n",
    "    x_features = []\n",
    "    for x_attr in x:\n",
    "        x_features.append(x_attr[0])\n",
    "    print(x_features, \"\\t\\t\\t\", classes[p], \"\\t\\t\", classes[y])"
   ]
  },
  {
   "cell_type": "code",
   "execution_count": null,
   "metadata": {},
   "outputs": [],
   "source": [
    "model1 = load_model('model-023.model')\n",
    "with open('xtest.npy', 'rb') as f:\n",
    "    X_test = np.load(f)\n",
    "f.close()\n",
    "with open('ytest.npy', 'rb') as f:\n",
    "    y_test = np.load(f)\n",
    "f.close()\n",
    "X_test2 = tf.cast(X_test, tf.float32)\n",
    "predictions = model1.predict(X_test2)\n",
    "\n",
    "predictions2 = []\n",
    "for p in predictions:\n",
    "    if p <= 0.5:\n",
    "        predictions2.append(0)\n",
    "    else:\n",
    "        predictions2.append(1)\n",
    "accuracy = metrics.accuracy_score(y_test, predictions2)\n",
    "print(\"Accuracy: \", accuracy*100, \"%\")\n",
    "print(\"Features \\t\\t\\t\\t\\tPredicted \\t\\t Target\")\n",
    "for (x, p, y) in zip(X_test, predictions2, y_test):\n",
    "    x_features = []\n",
    "    for x_attr in x:\n",
    "        x_features.append(x_attr[0])\n",
    "    print(x_features, \"\\t\\t\\t\", classes[p], \"\\t\\t\", classes[y])"
   ]
  }
 ],
 "metadata": {
  "kernelspec": {
   "display_name": "Python 3",
   "language": "python",
   "name": "python3"
  },
  "language_info": {
   "codemirror_mode": {
    "name": "ipython",
    "version": 3
   },
   "file_extension": ".py",
   "mimetype": "text/x-python",
   "name": "python",
   "nbconvert_exporter": "python",
   "pygments_lexer": "ipython3",
   "version": "3.7.9"
  }
 },
 "nbformat": 4,
 "nbformat_minor": 4
}
